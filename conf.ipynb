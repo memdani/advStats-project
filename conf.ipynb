{
 "cells": [
  {
   "cell_type": "code",
   "execution_count": 15,
   "metadata": {},
   "outputs": [],
   "source": [
    "import pandas as pd\n",
    "import numpy as np\n",
    "import seaborn as sns\n",
    "import scipy.stats as stats\n",
    "import matplotlib.pyplot as plt\n",
    "# Load data\n",
    "data = pd.read_csv('data.csv')\n",
    "\n"
   ]
  },
  {
   "cell_type": "code",
   "execution_count": 24,
   "metadata": {},
   "outputs": [],
   "source": [
    "data.loc[data['use during lectures'] < 3, 'use'] = 0\n",
    "data.loc[data['use during lectures'] >= 3, 'use'] = 1\n",
    "\n",
    "high_social_media = data[data['use'] == 1]\n",
    "low_social_media = data[data['use'] == 0]\n",
    "\n",
    "\n",
    "\n",
    "gpa_high_sm = high_social_media['converted gpa']\n",
    "gpa_low_sm = low_social_media['converted gpa']\n",
    "\n",
    "high_sm = high_social_media['use']\n",
    "low_sm = low_social_media['use']"
   ]
  },
  {
   "cell_type": "code",
   "execution_count": 27,
   "metadata": {},
   "outputs": [],
   "source": [
    "mean_high_sm = np.mean(gpa_high_sm)\n",
    "mean_low_sm = np.mean(gpa_low_sm)\n",
    "\n",
    "std_high_sm = np.std(gpa_high_sm, ddof=1)\n",
    "std_low_sm = np.std(gpa_low_sm, ddof=1)"
   ]
  },
  {
   "cell_type": "code",
   "execution_count": 28,
   "metadata": {},
   "outputs": [],
   "source": [
    "se = np.sqrt((std_low_sm**2 / len(gpa_low_sm)) + (std_high_sm**2 / len(gpa_high_sm)))"
   ]
  },
  {
   "cell_type": "code",
   "execution_count": 33,
   "metadata": {},
   "outputs": [],
   "source": [
    "t = stats.t.ppf(1 - 0.025, len(gpa_low_sm) + len(gpa_high_sm) - 2)\n",
    "df = len(gpa_low_sm) + len(gpa_high_sm) - 2\n",
    "\n",
    "# Calculate the confidence interval\n",
    "lower_bound = (mean_high_sm - mean_low_sm) - (t * se)\n",
    "upper_bound = (mean_high_sm - mean_low_sm) + (t * se)"
   ]
  },
  {
   "cell_type": "code",
   "execution_count": 32,
   "metadata": {},
   "outputs": [
    {
     "name": "stdout",
     "output_type": "stream",
     "text": [
      "The upper bound of the confidence interval is -0.07416447986401473 which is less than or equal to 0. Therefore, we reject the null hypothesis and accept the alternative hypothesis.\n"
     ]
    }
   ],
   "source": [
    "if upper_bound > 0:\n",
    "    print(\"The upper bound of the confidence interval is\", upper_bound, \"which is greater than 0. Therefore, we fail to reject the null hypothesis.\")\n",
    "else:\n",
    "    print(\"The upper bound of the confidence interval is\", upper_bound, \"which is less than or equal to 0. Therefore, we reject the null hypothesis and accept the alternative hypothesis.\")"
   ]
  }
 ],
 "metadata": {
  "kernelspec": {
   "display_name": "Python 3",
   "language": "python",
   "name": "python3"
  },
  "language_info": {
   "codemirror_mode": {
    "name": "ipython",
    "version": 3
   },
   "file_extension": ".py",
   "mimetype": "text/x-python",
   "name": "python",
   "nbconvert_exporter": "python",
   "pygments_lexer": "ipython3",
   "version": "3.11.2"
  },
  "orig_nbformat": 4
 },
 "nbformat": 4,
 "nbformat_minor": 2
}
