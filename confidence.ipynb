{
 "cells": [
  {
   "cell_type": "code",
   "execution_count": 6,
   "metadata": {},
   "outputs": [],
   "source": [
    "import pandas as pd\n",
    "import numpy as np\n",
    "from scipy import stats\n"
   ]
  },
  {
   "cell_type": "code",
   "execution_count": 2,
   "metadata": {},
   "outputs": [],
   "source": [
    "data = pd.read_csv('data.csv')\n"
   ]
  },
  {
   "cell_type": "code",
   "execution_count": 4,
   "metadata": {},
   "outputs": [],
   "source": [
    "data.loc[data['sum'] < 8, 'use'] = 'Low'\n",
    "data.loc[data['sum'] >= 8, 'use'] = 'High'"
   ]
  },
  {
   "cell_type": "code",
   "execution_count": 5,
   "metadata": {},
   "outputs": [
    {
     "name": "stdout",
     "output_type": "stream",
     "text": [
      "    Gender  Age  sleep scores  hour score  use during study score  sum  \\\n",
      "0     Male   20             2           3                       3    8   \n",
      "1     Male   21             3           2                       3    8   \n",
      "2     Male   21             3           6                       5   14   \n",
      "3   Female   20             3           4                       3   10   \n",
      "4     Male   21             2           2                       2    6   \n",
      "..     ...  ...           ...         ...                     ...  ...   \n",
      "69    Male   19             3           2                       4    9   \n",
      "70    Male   19             2           2                       3    7   \n",
      "71    Male   19             1           0                       3    4   \n",
      "72  Female   20             3           3                       2    8   \n",
      "73  Female   21             3           3                       2    8   \n",
      "\n",
      "    converted gpa  impact score   use  \n",
      "0            3.00             2  High  \n",
      "1            3.23             2  High  \n",
      "2            3.36             1  High  \n",
      "3            3.29             2  High  \n",
      "4            3.56             2   Low  \n",
      "..            ...           ...   ...  \n",
      "69           2.90             2  High  \n",
      "70           2.90             3   Low  \n",
      "71           3.30             1   Low  \n",
      "72           2.92             1  High  \n",
      "73           3.53             2  High  \n",
      "\n",
      "[74 rows x 9 columns]\n"
     ]
    }
   ],
   "source": [
    "print(data)"
   ]
  },
  {
   "cell_type": "code",
   "execution_count": 8,
   "metadata": {},
   "outputs": [],
   "source": [
    "# Calculate the mean GPA for high social media users\n",
    "high_users = data[data['use'] == 'High']\n",
    "high_mean = high_users['converted gpa'].mean()\n",
    "\n",
    "# Calculate the mean GPA for low social media users\n",
    "low_users = data[data['use'] == 'Low']\n",
    "low_mean = low_users['converted gpa'].mean()\n"
   ]
  },
  {
   "cell_type": "code",
   "execution_count": 9,
   "metadata": {},
   "outputs": [],
   "source": [
    "# Calculate the standard error of the difference in means\n",
    "high_var = high_users['converted gpa'].var()\n",
    "low_var = low_users['converted gpa'].var()\n",
    "n_high = len(high_users)\n",
    "n_low = len(low_users)\n",
    "se = np.sqrt(high_var/n_high + low_var/n_low)\n"
   ]
  },
  {
   "cell_type": "code",
   "execution_count": 10,
   "metadata": {},
   "outputs": [
    {
     "name": "stdout",
     "output_type": "stream",
     "text": [
      "Confidence interval for difference in means:\n",
      "Lower bound: -0.3212992088918324\n",
      "Upper bound: -0.03967137934346099\n"
     ]
    }
   ],
   "source": [
    "# Calculate the confidence interval\n",
    "t = stats.t.ppf(0.975, n_high + n_low - 2)\n",
    "ci_low = (high_mean - low_mean) - t * se\n",
    "ci_high = (high_mean - low_mean) + t * se\n",
    "\n",
    "# Print the results\n",
    "print('Confidence interval for difference in means:')\n",
    "print('Lower bound:', ci_low)\n",
    "print('Upper bound:', ci_high)\n"
   ]
  }
 ],
 "metadata": {
  "kernelspec": {
   "display_name": "Python 3",
   "language": "python",
   "name": "python3"
  },
  "language_info": {
   "codemirror_mode": {
    "name": "ipython",
    "version": 3
   },
   "file_extension": ".py",
   "mimetype": "text/x-python",
   "name": "python",
   "nbconvert_exporter": "python",
   "pygments_lexer": "ipython3",
   "version": "3.11.2"
  },
  "orig_nbformat": 4
 },
 "nbformat": 4,
 "nbformat_minor": 2
}
