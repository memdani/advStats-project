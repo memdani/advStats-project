{
 "cells": [
  {
   "cell_type": "code",
   "execution_count": 10,
   "metadata": {},
   "outputs": [],
   "source": [
    "import pandas as pd\n",
    "import statsmodels.api as sm"
   ]
  },
  {
   "cell_type": "code",
   "execution_count": 11,
   "metadata": {},
   "outputs": [],
   "source": [
    "# Load the data\n",
    "data = pd.read_csv('data.csv')\n",
    "\n"
   ]
  },
  {
   "cell_type": "code",
   "execution_count": 12,
   "metadata": {},
   "outputs": [
    {
     "name": "stdout",
     "output_type": "stream",
     "text": [
      "                            OLS Regression Results                            \n",
      "==============================================================================\n",
      "Dep. Variable:          converted gpa   R-squared:                       0.055\n",
      "Model:                            OLS   Adj. R-squared:                  0.042\n",
      "Method:                 Least Squares   F-statistic:                     4.228\n",
      "Date:                Sun, 16 Apr 2023   Prob (F-statistic):             0.0434\n",
      "Time:                        19:50:51   Log-Likelihood:                -16.057\n",
      "No. Observations:                  74   AIC:                             36.11\n",
      "Df Residuals:                      72   BIC:                             40.72\n",
      "Df Model:                           1                                         \n",
      "Covariance Type:            nonrobust                                         \n",
      "==============================================================================\n",
      "                 coef    std err          t      P>|t|      [0.025      0.975]\n",
      "------------------------------------------------------------------------------\n",
      "const          3.5312      0.144     24.483      0.000       3.244       3.819\n",
      "sum           -0.0385      0.019     -2.056      0.043      -0.076      -0.001\n",
      "==============================================================================\n",
      "Omnibus:                        6.926   Durbin-Watson:                   1.507\n",
      "Prob(Omnibus):                  0.031   Jarque-Bera (JB):                3.227\n",
      "Skew:                           0.242   Prob(JB):                        0.199\n",
      "Kurtosis:                       2.099   Cond. No.                         31.8\n",
      "==============================================================================\n",
      "\n",
      "Notes:\n",
      "[1] Standard Errors assume that the covariance matrix of the errors is correctly specified.\n"
     ]
    }
   ],
   "source": [
    "# Create the regression model\n",
    "\n",
    "X = sm.add_constant(data['sum'])\n",
    "y = data['converted gpa']\n",
    "model = sm.OLS(y, X).fit()\n",
    "\n",
    "# Print the results\n",
    "print(model.summary())"
   ]
  },
  {
   "cell_type": "code",
   "execution_count": 13,
   "metadata": {},
   "outputs": [
    {
     "name": "stdout",
     "output_type": "stream",
     "text": [
      "                            OLS Regression Results                            \n",
      "==============================================================================\n",
      "Dep. Variable:          converted gpa   R-squared:                       0.200\n",
      "Model:                            OLS   Adj. R-squared:                  0.189\n",
      "Method:                 Least Squares   F-statistic:                     18.00\n",
      "Date:                Sun, 16 Apr 2023   Prob (F-statistic):           6.49e-05\n",
      "Time:                        19:50:51   Log-Likelihood:                -9.9136\n",
      "No. Observations:                  74   AIC:                             23.83\n",
      "Df Residuals:                      72   BIC:                             28.44\n",
      "Df Model:                           1                                         \n",
      "Covariance Type:            nonrobust                                         \n",
      "=======================================================================================\n",
      "                          coef    std err          t      P>|t|      [0.025      0.975]\n",
      "---------------------------------------------------------------------------------------\n",
      "const                   3.6633      0.104     35.173      0.000       3.456       3.871\n",
      "use during lectures    -0.1472      0.035     -4.242      0.000      -0.216      -0.078\n",
      "==============================================================================\n",
      "Omnibus:                        1.778   Durbin-Watson:                   1.869\n",
      "Prob(Omnibus):                  0.411   Jarque-Bera (JB):                1.610\n",
      "Skew:                           0.357   Prob(JB):                        0.447\n",
      "Kurtosis:                       2.887   Cond. No.                         10.6\n",
      "==============================================================================\n",
      "\n",
      "Notes:\n",
      "[1] Standard Errors assume that the covariance matrix of the errors is correctly specified.\n"
     ]
    }
   ],
   "source": [
    "# Create the regression model\n",
    "\n",
    "X = sm.add_constant(data['use during lectures'])\n",
    "y = data['converted gpa']\n",
    "model = sm.OLS(y, X).fit()\n",
    "\n",
    "# Print the results\n",
    "print(model.summary())"
   ]
  }
 ],
 "metadata": {
  "kernelspec": {
   "display_name": "Python 3",
   "language": "python",
   "name": "python3"
  },
  "language_info": {
   "codemirror_mode": {
    "name": "ipython",
    "version": 3
   },
   "file_extension": ".py",
   "mimetype": "text/x-python",
   "name": "python",
   "nbconvert_exporter": "python",
   "pygments_lexer": "ipython3",
   "version": "3.11.2"
  },
  "orig_nbformat": 4
 },
 "nbformat": 4,
 "nbformat_minor": 2
}
