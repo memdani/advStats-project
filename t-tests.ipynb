{
 "cells": [
  {
   "cell_type": "code",
   "execution_count": 1,
   "metadata": {},
   "outputs": [],
   "source": [
    "import pandas as pd\n",
    "from scipy import stats\n"
   ]
  },
  {
   "cell_type": "code",
   "execution_count": 2,
   "metadata": {},
   "outputs": [],
   "source": [
    "data = pd.read_csv('data.csv')\n"
   ]
  },
  {
   "cell_type": "code",
   "execution_count": 11,
   "metadata": {},
   "outputs": [],
   "source": [
    "# data.loc[data['sum'] < 8, 'use'] = 'Low'\n",
    "# data.loc[data['sum'] >= 8, 'use'] = 'High'\n",
    "\n",
    "# high_social_media = data[data['use'] == \"High\"]\n",
    "# low_social_media = data[data['use'] == \"Low\"]"
   ]
  },
  {
   "cell_type": "code",
   "execution_count": 4,
   "metadata": {},
   "outputs": [],
   "source": [
    "data.loc[data['use during lectures'] < 3, 'use'] = 'Low'\n",
    "data.loc[data['use during lectures'] >= 3, 'use'] = 'High'\n",
    "\n",
    "high_social_media = data[data['use'] == \"High\"]\n",
    "low_social_media = data[data['use'] == \"Low\"]\n",
    "\n",
    "# print(high_social_media)\n",
    "# print(low_social_media)"
   ]
  },
  {
   "cell_type": "code",
   "execution_count": 5,
   "metadata": {},
   "outputs": [
    {
     "data": {
      "text/plain": [
       "LeveneResult(statistic=0.027519478215721937, pvalue=0.8687084932926717)"
      ]
     },
     "execution_count": 5,
     "metadata": {},
     "output_type": "execute_result"
    }
   ],
   "source": [
    "stats.levene(high_social_media['converted gpa'], low_social_media['converted gpa'])\n"
   ]
  },
  {
   "cell_type": "code",
   "execution_count": 6,
   "metadata": {},
   "outputs": [],
   "source": [
    "if stats.levene(high_social_media['converted gpa'], low_social_media['converted gpa'])[1] < 0.05:\n",
    "    t, p = stats.ttest_ind(high_social_media['converted gpa'], low_social_media['converted gpa'], equal_var=False)\n",
    "else:\n",
    "    t, p = stats.ttest_ind(high_social_media['converted gpa'], low_social_media['converted gpa'])\n"
   ]
  },
  {
   "cell_type": "code",
   "execution_count": 7,
   "metadata": {},
   "outputs": [
    {
     "name": "stdout",
     "output_type": "stream",
     "text": [
      "-3.0506656885228365\n",
      "0.0031953771895249484\n"
     ]
    }
   ],
   "source": [
    "print(t)\n",
    "print(p)"
   ]
  },
  {
   "cell_type": "code",
   "execution_count": 10,
   "metadata": {},
   "outputs": [],
   "source": [
    "data.loc[data['use during lectures'] < 2, 'use1'] = 'Low'\n",
    "data.loc[data['use during lectures'] >= 2, 'use1'] = 'High'\n",
    "\n",
    "high_social_media1 = data[data['use1'] == \"High\"]\n",
    "low_social_media1 = data[data['use1'] == \"Low\"]"
   ]
  },
  {
   "cell_type": "code",
   "execution_count": 11,
   "metadata": {},
   "outputs": [
    {
     "name": "stdout",
     "output_type": "stream",
     "text": [
      "-1.54564092696196\n",
      "0.12657564912472255\n"
     ]
    }
   ],
   "source": [
    "stats.levene(high_social_media1['converted gpa'], low_social_media1['converted gpa'])\n",
    "if stats.levene(high_social_media1['converted gpa'], low_social_media1['converted gpa'])[1] < 0.05:\n",
    "    t, p = stats.ttest_ind(high_social_media1['converted gpa'], low_social_media1['converted gpa'], equal_var=False)\n",
    "else:\n",
    "    t, p = stats.ttest_ind(high_social_media1['converted gpa'], low_social_media1['converted gpa'])\n",
    "\n",
    "print(t)\n",
    "print(p)\n"
   ]
  }
 ],
 "metadata": {
  "kernelspec": {
   "display_name": "Python 3",
   "language": "python",
   "name": "python3"
  },
  "language_info": {
   "codemirror_mode": {
    "name": "ipython",
    "version": 3
   },
   "file_extension": ".py",
   "mimetype": "text/x-python",
   "name": "python",
   "nbconvert_exporter": "python",
   "pygments_lexer": "ipython3",
   "version": "3.11.2"
  },
  "orig_nbformat": 4
 },
 "nbformat": 4,
 "nbformat_minor": 2
}
