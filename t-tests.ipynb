{
 "cells": [
  {
   "cell_type": "code",
   "execution_count": 2,
   "metadata": {},
   "outputs": [],
   "source": [
    "import pandas as pd\n",
    "from scipy import stats\n"
   ]
  },
  {
   "cell_type": "code",
   "execution_count": 3,
   "metadata": {},
   "outputs": [],
   "source": [
    "data = pd.read_csv('data.csv')\n"
   ]
  },
  {
   "cell_type": "code",
   "execution_count": 11,
   "metadata": {},
   "outputs": [],
   "source": [
    "# data.loc[data['sum'] < 8, 'use'] = 'Low'\n",
    "# data.loc[data['sum'] >= 8, 'use'] = 'High'\n",
    "\n",
    "# high_social_media = data[data['use'] == \"High\"]\n",
    "# low_social_media = data[data['use'] == \"Low\"]"
   ]
  },
  {
   "cell_type": "code",
   "execution_count": 15,
   "metadata": {},
   "outputs": [
    {
     "name": "stdout",
     "output_type": "stream",
     "text": [
      "    Gender  Age  sleep scores  hour score  use during study score  sum  \\\n",
      "0     Male   20             2           3                       3    8   \n",
      "1     Male   21             3           2                       3    8   \n",
      "2     Male   21             3           6                       5   14   \n",
      "3   Female   20             3           4                       3   10   \n",
      "6     Male   21             3           2                       4    9   \n",
      "8   Female   21             3           1                       3    7   \n",
      "13    Male   20             2           2                       4    8   \n",
      "14  Female   20             3           3                       4   10   \n",
      "15    Male   19             2           3                       3    8   \n",
      "17    Male   20             3           2                       4    9   \n",
      "24    Male   20             3           3                       4   10   \n",
      "25    Male   20             2           2                       3    7   \n",
      "28  Female   20             3           4                       3   10   \n",
      "32    Male   20             3           3                       3    9   \n",
      "33  Female   20             3           3                       3    9   \n",
      "34    Male   19             3           2                       3    8   \n",
      "35    Male   21             1           2                       3    6   \n",
      "37    Male   21             3           1                       3    7   \n",
      "39    Male   20             2           3                       3    8   \n",
      "46    Male   20             2           0                       3    5   \n",
      "47    Male   19             1           2                       3    6   \n",
      "49    Male   20             3           3                       3    9   \n",
      "50    Male   21             1           1                       4    6   \n",
      "53    Male   20             2           2                       3    7   \n",
      "54    Male   20             2           2                       4    8   \n",
      "55    Male   20             3           2                       4    9   \n",
      "56    Male   19             3           2                       4    9   \n",
      "57    Male   19             3           2                       4    9   \n",
      "58    Male   19             3           2                       4    9   \n",
      "59    Male   19             3           2                       4    9   \n",
      "60    Male   19             3           2                       4    9   \n",
      "61    Male   19             3           2                       4    9   \n",
      "62    Male   19             3           2                       4    9   \n",
      "63    Male   19             3           2                       4    9   \n",
      "64    Male   19             3           2                       4    9   \n",
      "65    Male   19             3           2                       4    9   \n",
      "66    Male   19             3           2                       4    9   \n",
      "67    Male   19             3           2                       4    9   \n",
      "68    Male   19             3           2                       4    9   \n",
      "69    Male   19             3           2                       4    9   \n",
      "70    Male   19             2           2                       3    7   \n",
      "71    Male   19             1           0                       3    4   \n",
      "\n",
      "    converted gpa  impact score   use  \n",
      "0           3.000             2  High  \n",
      "1           3.230             2  High  \n",
      "2           3.360             1  High  \n",
      "3           3.290             2  High  \n",
      "6           3.100             3  High  \n",
      "8           3.710             2  High  \n",
      "13          3.732             3  High  \n",
      "14          3.432             2  High  \n",
      "15          3.600             1  High  \n",
      "17          3.200             2  High  \n",
      "24          3.380             3  High  \n",
      "25          3.976             2  High  \n",
      "28          3.450             2  High  \n",
      "32          3.628             2  High  \n",
      "33          3.140             2  High  \n",
      "34          3.340             2  High  \n",
      "35          3.300             3  High  \n",
      "37          3.640             3  High  \n",
      "39          2.900             3  High  \n",
      "46          3.000             3  High  \n",
      "47          3.100             1  High  \n",
      "49          3.000             3  High  \n",
      "50          2.770             3  High  \n",
      "53          3.380             2  High  \n",
      "54          3.040             3  High  \n",
      "55          2.900             2  High  \n",
      "56          2.900             2  High  \n",
      "57          2.900             2  High  \n",
      "58          2.900             2  High  \n",
      "59          2.900             2  High  \n",
      "60          2.900             2  High  \n",
      "61          2.900             2  High  \n",
      "62          2.900             2  High  \n",
      "63          2.900             2  High  \n",
      "64          2.900             2  High  \n",
      "65          2.900             2  High  \n",
      "66          2.900             2  High  \n",
      "67          2.900             2  High  \n",
      "68          2.900             2  High  \n",
      "69          2.900             2  High  \n",
      "70          2.900             3  High  \n",
      "71          3.300             1  High  \n",
      "    Gender  Age  sleep scores  hour score  use during study score  sum  \\\n",
      "4     Male   21             2           2                       2    6   \n",
      "5   Female   20             2           3                       2    7   \n",
      "7     Male   20             3           0                       2    5   \n",
      "9   Female   21             3           3                       2    8   \n",
      "10  Female   21             3           3                       2    8   \n",
      "11  Female   22             3           2                       2    7   \n",
      "12    Male   19             3           1                       2    6   \n",
      "16    Male   21             1           2                       2    5   \n",
      "18    Male   21             3           2                       2    7   \n",
      "19    Male   20             2           2                       2    6   \n",
      "20    Male   20             1           1                       2    4   \n",
      "21    Male   20             2           3                       2    7   \n",
      "22    Male   20             2           2                       2    6   \n",
      "23    Male   21             3           4                       2    9   \n",
      "26    Male   21             1           2                       2    5   \n",
      "27    Male   21             3           2                       2    7   \n",
      "29    Male   20             3           1                       2    6   \n",
      "30  Female   20             2           2                       2    6   \n",
      "31    Male   21             3           3                       2    8   \n",
      "36    Male   21             1           0                       2    3   \n",
      "38  Female   20             2           1                       2    5   \n",
      "40  Female   20             2           1                       2    5   \n",
      "41    Male   21             3           1                       2    6   \n",
      "42    Male   21             3           3                       2    8   \n",
      "43    Male   20             3           3                       2    8   \n",
      "44    Male   19             1           0                       1    2   \n",
      "45    Male   20             3           2                       1    6   \n",
      "48    Male   19             1           3                       2    6   \n",
      "51    Male   20             3           1                       2    6   \n",
      "52    Male   21             3           2                       1    6   \n",
      "72  Female   20             3           3                       2    8   \n",
      "73  Female   21             3           3                       2    8   \n",
      "\n",
      "    converted gpa  impact score  use  \n",
      "4           3.560             2  Low  \n",
      "5           3.730             2  Low  \n",
      "7           3.220             3  Low  \n",
      "9           3.220             2  Low  \n",
      "10          3.788             2  Low  \n",
      "11          3.440             1  Low  \n",
      "12          3.400             1  Low  \n",
      "16          3.280             3  Low  \n",
      "18          3.220             1  Low  \n",
      "19          3.716             2  Low  \n",
      "20          3.120             2  Low  \n",
      "21          2.980             2  Low  \n",
      "22          3.310             3  Low  \n",
      "23          3.610             3  Low  \n",
      "26          2.700             3  Low  \n",
      "27          3.600             1  Low  \n",
      "29          2.800             1  Low  \n",
      "30          3.210             3  Low  \n",
      "31          3.530             2  Low  \n",
      "36          3.560             2  Low  \n",
      "38          3.230             1  Low  \n",
      "40          3.600             1  Low  \n",
      "41          3.600             3  Low  \n",
      "42          3.250             1  Low  \n",
      "43          3.260             2  Low  \n",
      "44          3.800             1  Low  \n",
      "45          3.300             1  Low  \n",
      "48          3.010             3  Low  \n",
      "51          3.700             1  Low  \n",
      "52          3.440             2  Low  \n",
      "72          2.920             1  Low  \n",
      "73          3.530             2  Low  \n"
     ]
    }
   ],
   "source": [
    "data.loc[data['use during study score'] < 3, 'use'] = 'Low'\n",
    "data.loc[data['use during study score'] >= 3, 'use'] = 'High'\n",
    "\n",
    "high_social_media = data[data['use'] == \"High\"]\n",
    "low_social_media = data[data['use'] == \"Low\"]\n",
    "\n",
    "# print(high_social_media)\n",
    "# print(low_social_media)"
   ]
  },
  {
   "cell_type": "code",
   "execution_count": 16,
   "metadata": {},
   "outputs": [
    {
     "data": {
      "text/plain": [
       "LeveneResult(statistic=0.027519478215721937, pvalue=0.8687084932926717)"
      ]
     },
     "execution_count": 16,
     "metadata": {},
     "output_type": "execute_result"
    }
   ],
   "source": [
    "stats.levene(high_social_media['converted gpa'], low_social_media['converted gpa'])\n"
   ]
  },
  {
   "cell_type": "code",
   "execution_count": 17,
   "metadata": {},
   "outputs": [],
   "source": [
    "if stats.levene(high_social_media['converted gpa'], low_social_media['converted gpa'])[1] < 0.05:\n",
    "    t, p = stats.ttest_ind(high_social_media['converted gpa'], low_social_media['converted gpa'], equal_var=False)\n",
    "else:\n",
    "    t, p = stats.ttest_ind(high_social_media['converted gpa'], low_social_media['converted gpa'])\n"
   ]
  },
  {
   "cell_type": "code",
   "execution_count": 18,
   "metadata": {},
   "outputs": [
    {
     "name": "stdout",
     "output_type": "stream",
     "text": [
      "-3.0506656885228365\n",
      "0.0031953771895249484\n"
     ]
    }
   ],
   "source": [
    "print(t)\n",
    "print(p)"
   ]
  }
 ],
 "metadata": {
  "kernelspec": {
   "display_name": "Python 3",
   "language": "python",
   "name": "python3"
  },
  "language_info": {
   "codemirror_mode": {
    "name": "ipython",
    "version": 3
   },
   "file_extension": ".py",
   "mimetype": "text/x-python",
   "name": "python",
   "nbconvert_exporter": "python",
   "pygments_lexer": "ipython3",
   "version": "3.11.2"
  },
  "orig_nbformat": 4
 },
 "nbformat": 4,
 "nbformat_minor": 2
}
