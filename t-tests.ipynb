{
 "cells": [
  {
   "cell_type": "code",
   "execution_count": 21,
   "metadata": {},
   "outputs": [],
   "source": [
    "import pandas as pd\n",
    "from scipy import stats\n"
   ]
  },
  {
   "cell_type": "code",
   "execution_count": 22,
   "metadata": {},
   "outputs": [],
   "source": [
    "data = pd.read_csv('data.csv')\n"
   ]
  },
  {
   "cell_type": "code",
   "execution_count": 31,
   "metadata": {},
   "outputs": [],
   "source": [
    "data = data.sample(n=30)"
   ]
  },
  {
   "cell_type": "code",
   "execution_count": 32,
   "metadata": {},
   "outputs": [],
   "source": [
    "data.loc[data['use during lectures'] < 3, 'use'] = 'Low'\n",
    "data.loc[data['use during lectures'] >= 3, 'use'] = 'High'\n",
    "\n",
    "high_social_media = data[data['use'] == \"High\"]\n",
    "low_social_media = data[data['use'] == \"Low\"]\n",
    "\n",
    "# print(high_social_media)\n",
    "# print(low_social_media)"
   ]
  },
  {
   "cell_type": "code",
   "execution_count": 33,
   "metadata": {},
   "outputs": [
    {
     "data": {
      "text/plain": [
       "LeveneResult(statistic=0.5987759848563277, pvalue=0.44553003771615407)"
      ]
     },
     "execution_count": 33,
     "metadata": {},
     "output_type": "execute_result"
    }
   ],
   "source": [
    "stats.levene(high_social_media['converted gpa'], low_social_media['converted gpa'])\n"
   ]
  },
  {
   "cell_type": "code",
   "execution_count": 34,
   "metadata": {},
   "outputs": [],
   "source": [
    "if stats.levene(high_social_media['converted gpa'], low_social_media['converted gpa'])[1] < 0.05:\n",
    "    t, p = stats.ttest_ind(high_social_media['converted gpa'], low_social_media['converted gpa'], equal_var=False)\n",
    "else:\n",
    "    t, p = stats.ttest_ind(high_social_media['converted gpa'], low_social_media['converted gpa'])\n"
   ]
  },
  {
   "cell_type": "code",
   "execution_count": 35,
   "metadata": {},
   "outputs": [
    {
     "name": "stdout",
     "output_type": "stream",
     "text": [
      "-3.1052016056904956\n",
      "0.004323065020477958\n"
     ]
    }
   ],
   "source": [
    "print(t)\n",
    "print(p)"
   ]
  },
  {
   "cell_type": "code",
   "execution_count": 36,
   "metadata": {},
   "outputs": [],
   "source": [
    "data.loc[data['use during lectures'] < 2, 'use1'] = 'Low'\n",
    "data.loc[data['use during lectures'] >= 2, 'use1'] = 'High'\n",
    "\n",
    "high_social_media1 = data[data['use1'] == \"High\"]\n",
    "low_social_media1 = data[data['use1'] == \"Low\"]"
   ]
  },
  {
   "cell_type": "code",
   "execution_count": 37,
   "metadata": {},
   "outputs": [
    {
     "name": "stdout",
     "output_type": "stream",
     "text": [
      "-1.4854526223135145\n",
      "0.14859699381264424\n"
     ]
    }
   ],
   "source": [
    "stats.levene(high_social_media1['converted gpa'], low_social_media1['converted gpa'])\n",
    "if stats.levene(high_social_media1['converted gpa'], low_social_media1['converted gpa'])[1] < 0.05:\n",
    "    t, p = stats.ttest_ind(high_social_media1['converted gpa'], low_social_media1['converted gpa'], equal_var=False)\n",
    "else:\n",
    "    t, p = stats.ttest_ind(high_social_media1['converted gpa'], low_social_media1['converted gpa'])\n",
    "\n",
    "print(t)\n",
    "print(p)\n"
   ]
  }
 ],
 "metadata": {
  "kernelspec": {
   "display_name": "Python 3",
   "language": "python",
   "name": "python3"
  },
  "language_info": {
   "codemirror_mode": {
    "name": "ipython",
    "version": 3
   },
   "file_extension": ".py",
   "mimetype": "text/x-python",
   "name": "python",
   "nbconvert_exporter": "python",
   "pygments_lexer": "ipython3",
   "version": "3.11.2"
  },
  "orig_nbformat": 4
 },
 "nbformat": 4,
 "nbformat_minor": 2
}
