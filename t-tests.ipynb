{
 "cells": [
  {
   "cell_type": "code",
   "execution_count": 1,
   "metadata": {},
   "outputs": [],
   "source": [
    "import pandas as pd\n",
    "from scipy import stats\n"
   ]
  },
  {
   "cell_type": "code",
   "execution_count": 4,
   "metadata": {},
   "outputs": [],
   "source": [
    "data = pd.read_csv('data.csv')\n"
   ]
  },
  {
   "cell_type": "code",
   "execution_count": 6,
   "metadata": {},
   "outputs": [],
   "source": [
    "data.loc[data['sum'] < 8, 'use'] = 'Low'\n",
    "data.loc[data['sum'] >= 8, 'use'] = 'High'\n",
    "\n",
    "high_social_media = data[data['use'] == \"High\"]\n",
    "low_social_media = data[data['use'] == \"Low\"]"
   ]
  },
  {
   "cell_type": "code",
   "execution_count": null,
   "metadata": {},
   "outputs": [],
   "source": [
    "stats.levene(high_social_media['converted gpa'], low_social_media['converted gpa'])\n"
   ]
  },
  {
   "cell_type": "code",
   "execution_count": 8,
   "metadata": {},
   "outputs": [],
   "source": [
    "if stats.levene(high_social_media['converted gpa'], low_social_media['converted gpa'])[1] < 0.05:\n",
    "    t, p = stats.ttest_ind(high_social_media['converted gpa'], low_social_media['converted gpa'], equal_var=False)\n",
    "else:\n",
    "    t, p = stats.ttest_ind(high_social_media['converted gpa'], low_social_media['converted gpa'])\n"
   ]
  },
  {
   "cell_type": "code",
   "execution_count": 9,
   "metadata": {},
   "outputs": [
    {
     "name": "stdout",
     "output_type": "stream",
     "text": [
      "-2.5789417757442994\n",
      "0.011953502184545836\n"
     ]
    }
   ],
   "source": [
    "print(t)\n",
    "print(p)"
   ]
  }
 ],
 "metadata": {
  "kernelspec": {
   "display_name": "Python 3",
   "language": "python",
   "name": "python3"
  },
  "language_info": {
   "codemirror_mode": {
    "name": "ipython",
    "version": 3
   },
   "file_extension": ".py",
   "mimetype": "text/x-python",
   "name": "python",
   "nbconvert_exporter": "python",
   "pygments_lexer": "ipython3",
   "version": "3.11.2"
  },
  "orig_nbformat": 4
 },
 "nbformat": 4,
 "nbformat_minor": 2
}
